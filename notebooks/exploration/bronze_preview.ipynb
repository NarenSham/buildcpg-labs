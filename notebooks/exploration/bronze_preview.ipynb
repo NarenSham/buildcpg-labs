{
 "cells": [
  {
   "cell_type": "code",
   "execution_count": 2,
   "id": "7b94f125",
   "metadata": {},
   "outputs": [
    {
     "name": "stderr",
     "output_type": "stream",
     "text": [
      "\n",
      "A module that was compiled using NumPy 1.x cannot be run in\n",
      "NumPy 2.3.3 as it may crash. To support both 1.x and 2.x\n",
      "versions of NumPy, modules must be compiled with NumPy 2.0.\n",
      "Some module may need to rebuild instead e.g. with 'pybind11>=2.12'.\n",
      "\n",
      "If you are a user of the module, the easiest solution will be to\n",
      "downgrade to 'numpy<2' or try to upgrade the affected module.\n",
      "We expect that some modules will need time to support NumPy 2.\n",
      "\n",
      "Traceback (most recent call last):  File \"<frozen runpy>\", line 198, in _run_module_as_main\n",
      "  File \"<frozen runpy>\", line 88, in _run_code\n",
      "  File \"/Users/narensham/Documents/Projects/Cursor/buildcpg-labs/.venv/lib/python3.11/site-packages/ipykernel_launcher.py\", line 18, in <module>\n",
      "    app.launch_new_instance()\n",
      "  File \"/Users/narensham/Documents/Projects/Cursor/buildcpg-labs/.venv/lib/python3.11/site-packages/traitlets/config/application.py\", line 1075, in launch_instance\n",
      "    app.start()\n",
      "  File \"/Users/narensham/Documents/Projects/Cursor/buildcpg-labs/.venv/lib/python3.11/site-packages/ipykernel/kernelapp.py\", line 739, in start\n",
      "    self.io_loop.start()\n",
      "  File \"/Users/narensham/Documents/Projects/Cursor/buildcpg-labs/.venv/lib/python3.11/site-packages/tornado/platform/asyncio.py\", line 211, in start\n",
      "    self.asyncio_loop.run_forever()\n",
      "  File \"/Users/narensham/.pyenv/versions/3.11.9/lib/python3.11/asyncio/base_events.py\", line 608, in run_forever\n",
      "    self._run_once()\n",
      "  File \"/Users/narensham/.pyenv/versions/3.11.9/lib/python3.11/asyncio/base_events.py\", line 1936, in _run_once\n",
      "    handle._run()\n",
      "  File \"/Users/narensham/.pyenv/versions/3.11.9/lib/python3.11/asyncio/events.py\", line 84, in _run\n",
      "    self._context.run(self._callback, *self._args)\n",
      "  File \"/Users/narensham/Documents/Projects/Cursor/buildcpg-labs/.venv/lib/python3.11/site-packages/ipykernel/kernelbase.py\", line 519, in dispatch_queue\n",
      "    await self.process_one()\n",
      "  File \"/Users/narensham/Documents/Projects/Cursor/buildcpg-labs/.venv/lib/python3.11/site-packages/ipykernel/kernelbase.py\", line 508, in process_one\n",
      "    await dispatch(*args)\n",
      "  File \"/Users/narensham/Documents/Projects/Cursor/buildcpg-labs/.venv/lib/python3.11/site-packages/ipykernel/kernelbase.py\", line 400, in dispatch_shell\n",
      "    await result\n",
      "  File \"/Users/narensham/Documents/Projects/Cursor/buildcpg-labs/.venv/lib/python3.11/site-packages/ipykernel/ipkernel.py\", line 368, in execute_request\n",
      "    await super().execute_request(stream, ident, parent)\n",
      "  File \"/Users/narensham/Documents/Projects/Cursor/buildcpg-labs/.venv/lib/python3.11/site-packages/ipykernel/kernelbase.py\", line 767, in execute_request\n",
      "    reply_content = await reply_content\n",
      "  File \"/Users/narensham/Documents/Projects/Cursor/buildcpg-labs/.venv/lib/python3.11/site-packages/ipykernel/ipkernel.py\", line 455, in do_execute\n",
      "    res = shell.run_cell(\n",
      "  File \"/Users/narensham/Documents/Projects/Cursor/buildcpg-labs/.venv/lib/python3.11/site-packages/ipykernel/zmqshell.py\", line 577, in run_cell\n",
      "    return super().run_cell(*args, **kwargs)\n",
      "  File \"/Users/narensham/Documents/Projects/Cursor/buildcpg-labs/.venv/lib/python3.11/site-packages/IPython/core/interactiveshell.py\", line 3116, in run_cell\n",
      "    result = self._run_cell(\n",
      "  File \"/Users/narensham/Documents/Projects/Cursor/buildcpg-labs/.venv/lib/python3.11/site-packages/IPython/core/interactiveshell.py\", line 3171, in _run_cell\n",
      "    result = runner(coro)\n",
      "  File \"/Users/narensham/Documents/Projects/Cursor/buildcpg-labs/.venv/lib/python3.11/site-packages/IPython/core/async_helpers.py\", line 128, in _pseudo_sync_runner\n",
      "    coro.send(None)\n",
      "  File \"/Users/narensham/Documents/Projects/Cursor/buildcpg-labs/.venv/lib/python3.11/site-packages/IPython/core/interactiveshell.py\", line 3394, in run_cell_async\n",
      "    has_raised = await self.run_ast_nodes(code_ast.body, cell_name,\n",
      "  File \"/Users/narensham/Documents/Projects/Cursor/buildcpg-labs/.venv/lib/python3.11/site-packages/IPython/core/interactiveshell.py\", line 3639, in run_ast_nodes\n",
      "    if await self.run_code(code, result, async_=asy):\n",
      "  File \"/Users/narensham/Documents/Projects/Cursor/buildcpg-labs/.venv/lib/python3.11/site-packages/IPython/core/interactiveshell.py\", line 3699, in run_code\n",
      "    exec(code_obj, self.user_global_ns, self.user_ns)\n",
      "  File \"/var/folders/bp/3bv0cgj57zddth2p_r78x4vh0000gn/T/ipykernel_41927/2897028151.py\", line 1, in <module>\n",
      "    import pandas as pd\n",
      "  File \"/Users/narensham/Documents/Projects/Cursor/buildcpg-labs/.venv/lib/python3.11/site-packages/pandas/__init__.py\", line 26, in <module>\n",
      "    from pandas.compat import (\n",
      "  File \"/Users/narensham/Documents/Projects/Cursor/buildcpg-labs/.venv/lib/python3.11/site-packages/pandas/compat/__init__.py\", line 29, in <module>\n",
      "    from pandas.compat.pyarrow import (\n",
      "  File \"/Users/narensham/Documents/Projects/Cursor/buildcpg-labs/.venv/lib/python3.11/site-packages/pandas/compat/pyarrow.py\", line 8, in <module>\n",
      "    import pyarrow as pa\n",
      "  File \"/Users/narensham/Documents/Projects/Cursor/buildcpg-labs/.venv/lib/python3.11/site-packages/pyarrow/__init__.py\", line 65, in <module>\n",
      "    import pyarrow.lib as _lib\n"
     ]
    },
    {
     "ename": "AttributeError",
     "evalue": "_ARRAY_API not found",
     "output_type": "error",
     "traceback": [
      "\u001b[31m---------------------------------------------------------------------------\u001b[39m",
      "\u001b[31mAttributeError\u001b[39m                            Traceback (most recent call last)",
      "\u001b[31mAttributeError\u001b[39m: _ARRAY_API not found"
     ]
    },
    {
     "name": "stderr",
     "output_type": "stream",
     "text": [
      "\n",
      "A module that was compiled using NumPy 1.x cannot be run in\n",
      "NumPy 2.3.3 as it may crash. To support both 1.x and 2.x\n",
      "versions of NumPy, modules must be compiled with NumPy 2.0.\n",
      "Some module may need to rebuild instead e.g. with 'pybind11>=2.12'.\n",
      "\n",
      "If you are a user of the module, the easiest solution will be to\n",
      "downgrade to 'numpy<2' or try to upgrade the affected module.\n",
      "We expect that some modules will need time to support NumPy 2.\n",
      "\n",
      "Traceback (most recent call last):  File \"<frozen runpy>\", line 198, in _run_module_as_main\n",
      "  File \"<frozen runpy>\", line 88, in _run_code\n",
      "  File \"/Users/narensham/Documents/Projects/Cursor/buildcpg-labs/.venv/lib/python3.11/site-packages/ipykernel_launcher.py\", line 18, in <module>\n",
      "    app.launch_new_instance()\n",
      "  File \"/Users/narensham/Documents/Projects/Cursor/buildcpg-labs/.venv/lib/python3.11/site-packages/traitlets/config/application.py\", line 1075, in launch_instance\n",
      "    app.start()\n",
      "  File \"/Users/narensham/Documents/Projects/Cursor/buildcpg-labs/.venv/lib/python3.11/site-packages/ipykernel/kernelapp.py\", line 739, in start\n",
      "    self.io_loop.start()\n",
      "  File \"/Users/narensham/Documents/Projects/Cursor/buildcpg-labs/.venv/lib/python3.11/site-packages/tornado/platform/asyncio.py\", line 211, in start\n",
      "    self.asyncio_loop.run_forever()\n",
      "  File \"/Users/narensham/.pyenv/versions/3.11.9/lib/python3.11/asyncio/base_events.py\", line 608, in run_forever\n",
      "    self._run_once()\n",
      "  File \"/Users/narensham/.pyenv/versions/3.11.9/lib/python3.11/asyncio/base_events.py\", line 1936, in _run_once\n",
      "    handle._run()\n",
      "  File \"/Users/narensham/.pyenv/versions/3.11.9/lib/python3.11/asyncio/events.py\", line 84, in _run\n",
      "    self._context.run(self._callback, *self._args)\n",
      "  File \"/Users/narensham/Documents/Projects/Cursor/buildcpg-labs/.venv/lib/python3.11/site-packages/ipykernel/kernelbase.py\", line 519, in dispatch_queue\n",
      "    await self.process_one()\n",
      "  File \"/Users/narensham/Documents/Projects/Cursor/buildcpg-labs/.venv/lib/python3.11/site-packages/ipykernel/kernelbase.py\", line 508, in process_one\n",
      "    await dispatch(*args)\n",
      "  File \"/Users/narensham/Documents/Projects/Cursor/buildcpg-labs/.venv/lib/python3.11/site-packages/ipykernel/kernelbase.py\", line 400, in dispatch_shell\n",
      "    await result\n",
      "  File \"/Users/narensham/Documents/Projects/Cursor/buildcpg-labs/.venv/lib/python3.11/site-packages/ipykernel/ipkernel.py\", line 368, in execute_request\n",
      "    await super().execute_request(stream, ident, parent)\n",
      "  File \"/Users/narensham/Documents/Projects/Cursor/buildcpg-labs/.venv/lib/python3.11/site-packages/ipykernel/kernelbase.py\", line 767, in execute_request\n",
      "    reply_content = await reply_content\n",
      "  File \"/Users/narensham/Documents/Projects/Cursor/buildcpg-labs/.venv/lib/python3.11/site-packages/ipykernel/ipkernel.py\", line 455, in do_execute\n",
      "    res = shell.run_cell(\n",
      "  File \"/Users/narensham/Documents/Projects/Cursor/buildcpg-labs/.venv/lib/python3.11/site-packages/ipykernel/zmqshell.py\", line 577, in run_cell\n",
      "    return super().run_cell(*args, **kwargs)\n",
      "  File \"/Users/narensham/Documents/Projects/Cursor/buildcpg-labs/.venv/lib/python3.11/site-packages/IPython/core/interactiveshell.py\", line 3116, in run_cell\n",
      "    result = self._run_cell(\n",
      "  File \"/Users/narensham/Documents/Projects/Cursor/buildcpg-labs/.venv/lib/python3.11/site-packages/IPython/core/interactiveshell.py\", line 3171, in _run_cell\n",
      "    result = runner(coro)\n",
      "  File \"/Users/narensham/Documents/Projects/Cursor/buildcpg-labs/.venv/lib/python3.11/site-packages/IPython/core/async_helpers.py\", line 128, in _pseudo_sync_runner\n",
      "    coro.send(None)\n",
      "  File \"/Users/narensham/Documents/Projects/Cursor/buildcpg-labs/.venv/lib/python3.11/site-packages/IPython/core/interactiveshell.py\", line 3394, in run_cell_async\n",
      "    has_raised = await self.run_ast_nodes(code_ast.body, cell_name,\n",
      "  File \"/Users/narensham/Documents/Projects/Cursor/buildcpg-labs/.venv/lib/python3.11/site-packages/IPython/core/interactiveshell.py\", line 3639, in run_ast_nodes\n",
      "    if await self.run_code(code, result, async_=asy):\n",
      "  File \"/Users/narensham/Documents/Projects/Cursor/buildcpg-labs/.venv/lib/python3.11/site-packages/IPython/core/interactiveshell.py\", line 3699, in run_code\n",
      "    exec(code_obj, self.user_global_ns, self.user_ns)\n",
      "  File \"/var/folders/bp/3bv0cgj57zddth2p_r78x4vh0000gn/T/ipykernel_41927/2897028151.py\", line 1, in <module>\n",
      "    import pandas as pd\n",
      "  File \"/Users/narensham/Documents/Projects/Cursor/buildcpg-labs/.venv/lib/python3.11/site-packages/pandas/__init__.py\", line 49, in <module>\n",
      "    from pandas.core.api import (\n",
      "  File \"/Users/narensham/Documents/Projects/Cursor/buildcpg-labs/.venv/lib/python3.11/site-packages/pandas/core/api.py\", line 9, in <module>\n",
      "    from pandas.core.dtypes.dtypes import (\n",
      "  File \"/Users/narensham/Documents/Projects/Cursor/buildcpg-labs/.venv/lib/python3.11/site-packages/pandas/core/dtypes/dtypes.py\", line 24, in <module>\n",
      "    from pandas._libs import (\n",
      "  File \"/Users/narensham/Documents/Projects/Cursor/buildcpg-labs/.venv/lib/python3.11/site-packages/pyarrow/__init__.py\", line 65, in <module>\n",
      "    import pyarrow.lib as _lib\n"
     ]
    },
    {
     "ename": "AttributeError",
     "evalue": "_ARRAY_API not found",
     "output_type": "error",
     "traceback": [
      "\u001b[31m---------------------------------------------------------------------------\u001b[39m",
      "\u001b[31mAttributeError\u001b[39m                            Traceback (most recent call last)",
      "\u001b[31mAttributeError\u001b[39m: _ARRAY_API not found"
     ]
    },
    {
     "data": {
      "text/plain": [
       "'/Users/narensham/Documents/Projects/Cursor/buildcpg-labs/notebooks/exploration'"
      ]
     },
     "execution_count": 2,
     "metadata": {},
     "output_type": "execute_result"
    }
   ],
   "source": [
    "import pandas as pd\n",
    "import os\n",
    "\n",
    "os.getcwd()"
   ]
  },
  {
   "cell_type": "code",
   "execution_count": 3,
   "id": "de71cba0",
   "metadata": {},
   "outputs": [
    {
     "name": "stdout",
     "output_type": "stream",
     "text": [
      "Resolved CSV path: /Users/narensham/Documents/Projects/Cursor/buildcpg-labs/data/raw/sales_2025_09.csv\n"
     ]
    },
    {
     "data": {
      "text/html": [
       "<div>\n",
       "<style scoped>\n",
       "    .dataframe tbody tr th:only-of-type {\n",
       "        vertical-align: middle;\n",
       "    }\n",
       "\n",
       "    .dataframe tbody tr th {\n",
       "        vertical-align: top;\n",
       "    }\n",
       "\n",
       "    .dataframe thead th {\n",
       "        text-align: right;\n",
       "    }\n",
       "</style>\n",
       "<table border=\"1\" class=\"dataframe\">\n",
       "  <thead>\n",
       "    <tr style=\"text-align: right;\">\n",
       "      <th></th>\n",
       "      <th>order_id</th>\n",
       "      <th>sku_id</th>\n",
       "      <th>order_date</th>\n",
       "      <th>region</th>\n",
       "      <th>sales</th>\n",
       "      <th>promo_flag</th>\n",
       "      <th>discount</th>\n",
       "      <th>stock_on_hand</th>\n",
       "    </tr>\n",
       "  </thead>\n",
       "  <tbody>\n",
       "    <tr>\n",
       "      <th>0</th>\n",
       "      <td>1</td>\n",
       "      <td>SKU_A</td>\n",
       "      <td>2025-09-01</td>\n",
       "      <td>North</td>\n",
       "      <td>100</td>\n",
       "      <td>0</td>\n",
       "      <td>0</td>\n",
       "      <td>50</td>\n",
       "    </tr>\n",
       "    <tr>\n",
       "      <th>1</th>\n",
       "      <td>2</td>\n",
       "      <td>SKU_A</td>\n",
       "      <td>2025-09-02</td>\n",
       "      <td>North</td>\n",
       "      <td>120</td>\n",
       "      <td>1</td>\n",
       "      <td>10</td>\n",
       "      <td>40</td>\n",
       "    </tr>\n",
       "    <tr>\n",
       "      <th>2</th>\n",
       "      <td>3</td>\n",
       "      <td>SKU_B</td>\n",
       "      <td>2025-09-01</td>\n",
       "      <td>South</td>\n",
       "      <td>80</td>\n",
       "      <td>0</td>\n",
       "      <td>0</td>\n",
       "      <td>70</td>\n",
       "    </tr>\n",
       "    <tr>\n",
       "      <th>3</th>\n",
       "      <td>4</td>\n",
       "      <td>SKU_B</td>\n",
       "      <td>2025-09-03</td>\n",
       "      <td>South</td>\n",
       "      <td>90</td>\n",
       "      <td>1</td>\n",
       "      <td>5</td>\n",
       "      <td>60</td>\n",
       "    </tr>\n",
       "    <tr>\n",
       "      <th>4</th>\n",
       "      <td>5</td>\n",
       "      <td>SKU_C</td>\n",
       "      <td>2025-09-02</td>\n",
       "      <td>West</td>\n",
       "      <td>60</td>\n",
       "      <td>0</td>\n",
       "      <td>0</td>\n",
       "      <td>20</td>\n",
       "    </tr>\n",
       "  </tbody>\n",
       "</table>\n",
       "</div>"
      ],
      "text/plain": [
       "   order_id sku_id  order_date region  sales  promo_flag  discount  \\\n",
       "0         1  SKU_A  2025-09-01  North    100           0         0   \n",
       "1         2  SKU_A  2025-09-02  North    120           1        10   \n",
       "2         3  SKU_B  2025-09-01  South     80           0         0   \n",
       "3         4  SKU_B  2025-09-03  South     90           1         5   \n",
       "4         5  SKU_C  2025-09-02   West     60           0         0   \n",
       "\n",
       "   stock_on_hand  \n",
       "0             50  \n",
       "1             40  \n",
       "2             70  \n",
       "3             60  \n",
       "4             20  "
      ]
     },
     "execution_count": 3,
     "metadata": {},
     "output_type": "execute_result"
    }
   ],
   "source": [
    "from pathlib import Path\n",
    "import pandas as pd\n",
    "\n",
    "# Current notebook folder\n",
    "NOTEBOOK_DIR = Path().resolve()  # e.g., .../notebooks/exploration\n",
    "\n",
    "# Project root is 2 levels up\n",
    "PROJECT_ROOT = NOTEBOOK_DIR.parent.parent\n",
    "\n",
    "CSV_PATH = PROJECT_ROOT / \"data/raw/sales_2025_09.csv\"\n",
    "print(\"Resolved CSV path:\", CSV_PATH)\n",
    "\n",
    "# Load CSV\n",
    "df_raw = pd.read_csv(CSV_PATH)\n",
    "df_raw.head()\n",
    "\n"
   ]
  },
  {
   "cell_type": "code",
   "execution_count": 4,
   "id": "bce652ad-caaa-41cb-8808-945d94ef551a",
   "metadata": {},
   "outputs": [
    {
     "name": "stdout",
     "output_type": "stream",
     "text": [
      "<class 'pandas.core.frame.DataFrame'>\n",
      "RangeIndex: 5 entries, 0 to 4\n",
      "Data columns (total 8 columns):\n",
      " #   Column         Non-Null Count  Dtype \n",
      "---  ------         --------------  ----- \n",
      " 0   order_id       5 non-null      int64 \n",
      " 1   sku_id         5 non-null      object\n",
      " 2   order_date     5 non-null      object\n",
      " 3   region         5 non-null      object\n",
      " 4   sales          5 non-null      int64 \n",
      " 5   promo_flag     5 non-null      int64 \n",
      " 6   discount       5 non-null      int64 \n",
      " 7   stock_on_hand  5 non-null      int64 \n",
      "dtypes: int64(5), object(3)\n",
      "memory usage: 452.0+ bytes\n"
     ]
    }
   ],
   "source": [
    "df_raw.info()"
   ]
  },
  {
   "cell_type": "code",
   "execution_count": 5,
   "id": "699d9951-9443-41f4-b3f2-87864f14fb16",
   "metadata": {},
   "outputs": [
    {
     "data": {
      "text/html": [
       "<div>\n",
       "<style scoped>\n",
       "    .dataframe tbody tr th:only-of-type {\n",
       "        vertical-align: middle;\n",
       "    }\n",
       "\n",
       "    .dataframe tbody tr th {\n",
       "        vertical-align: top;\n",
       "    }\n",
       "\n",
       "    .dataframe thead th {\n",
       "        text-align: right;\n",
       "    }\n",
       "</style>\n",
       "<table border=\"1\" class=\"dataframe\">\n",
       "  <thead>\n",
       "    <tr style=\"text-align: right;\">\n",
       "      <th></th>\n",
       "      <th>order_id</th>\n",
       "      <th>sales</th>\n",
       "      <th>promo_flag</th>\n",
       "      <th>discount</th>\n",
       "      <th>stock_on_hand</th>\n",
       "    </tr>\n",
       "  </thead>\n",
       "  <tbody>\n",
       "    <tr>\n",
       "      <th>count</th>\n",
       "      <td>5.000000</td>\n",
       "      <td>5.00000</td>\n",
       "      <td>5.000000</td>\n",
       "      <td>5.000000</td>\n",
       "      <td>5.000000</td>\n",
       "    </tr>\n",
       "    <tr>\n",
       "      <th>mean</th>\n",
       "      <td>3.000000</td>\n",
       "      <td>90.00000</td>\n",
       "      <td>0.400000</td>\n",
       "      <td>3.000000</td>\n",
       "      <td>48.000000</td>\n",
       "    </tr>\n",
       "    <tr>\n",
       "      <th>std</th>\n",
       "      <td>1.581139</td>\n",
       "      <td>22.36068</td>\n",
       "      <td>0.547723</td>\n",
       "      <td>4.472136</td>\n",
       "      <td>19.235384</td>\n",
       "    </tr>\n",
       "    <tr>\n",
       "      <th>min</th>\n",
       "      <td>1.000000</td>\n",
       "      <td>60.00000</td>\n",
       "      <td>0.000000</td>\n",
       "      <td>0.000000</td>\n",
       "      <td>20.000000</td>\n",
       "    </tr>\n",
       "    <tr>\n",
       "      <th>25%</th>\n",
       "      <td>2.000000</td>\n",
       "      <td>80.00000</td>\n",
       "      <td>0.000000</td>\n",
       "      <td>0.000000</td>\n",
       "      <td>40.000000</td>\n",
       "    </tr>\n",
       "    <tr>\n",
       "      <th>50%</th>\n",
       "      <td>3.000000</td>\n",
       "      <td>90.00000</td>\n",
       "      <td>0.000000</td>\n",
       "      <td>0.000000</td>\n",
       "      <td>50.000000</td>\n",
       "    </tr>\n",
       "    <tr>\n",
       "      <th>75%</th>\n",
       "      <td>4.000000</td>\n",
       "      <td>100.00000</td>\n",
       "      <td>1.000000</td>\n",
       "      <td>5.000000</td>\n",
       "      <td>60.000000</td>\n",
       "    </tr>\n",
       "    <tr>\n",
       "      <th>max</th>\n",
       "      <td>5.000000</td>\n",
       "      <td>120.00000</td>\n",
       "      <td>1.000000</td>\n",
       "      <td>10.000000</td>\n",
       "      <td>70.000000</td>\n",
       "    </tr>\n",
       "  </tbody>\n",
       "</table>\n",
       "</div>"
      ],
      "text/plain": [
       "       order_id      sales  promo_flag   discount  stock_on_hand\n",
       "count  5.000000    5.00000    5.000000   5.000000       5.000000\n",
       "mean   3.000000   90.00000    0.400000   3.000000      48.000000\n",
       "std    1.581139   22.36068    0.547723   4.472136      19.235384\n",
       "min    1.000000   60.00000    0.000000   0.000000      20.000000\n",
       "25%    2.000000   80.00000    0.000000   0.000000      40.000000\n",
       "50%    3.000000   90.00000    0.000000   0.000000      50.000000\n",
       "75%    4.000000  100.00000    1.000000   5.000000      60.000000\n",
       "max    5.000000  120.00000    1.000000  10.000000      70.000000"
      ]
     },
     "execution_count": 5,
     "metadata": {},
     "output_type": "execute_result"
    }
   ],
   "source": [
    "df_raw.describe()"
   ]
  },
  {
   "cell_type": "code",
   "execution_count": 6,
   "id": "d9665593-482d-4c5e-8418-fd9ec67bfe10",
   "metadata": {},
   "outputs": [
    {
     "data": {
      "text/plain": [
       "order_id         0\n",
       "sku_id           0\n",
       "order_date       0\n",
       "region           0\n",
       "sales            0\n",
       "promo_flag       0\n",
       "discount         0\n",
       "stock_on_hand    0\n",
       "dtype: int64"
      ]
     },
     "execution_count": 6,
     "metadata": {},
     "output_type": "execute_result"
    }
   ],
   "source": [
    "df_raw.isnull().sum()"
   ]
  },
  {
   "cell_type": "code",
   "execution_count": 8,
   "id": "d3fac1ba-ce43-4761-87b2-d1cc6603fd6e",
   "metadata": {},
   "outputs": [],
   "source": [
    "import duckdb\n",
    "\n",
    "db_path = PROJECT_ROOT / \"data/buildcpg.duckdb\"\n",
    "con = duckdb.connect(db_path)"
   ]
  },
  {
   "cell_type": "code",
   "execution_count": 21,
   "id": "ed91ff8f-bd05-4bb7-8709-8b78057808ba",
   "metadata": {},
   "outputs": [
    {
     "name": "stdout",
     "output_type": "stream",
     "text": [
      "Tables in DuckDB: [('bronze_sales',), ('df_raw',), ('sales_forecast_ready',), ('stg_sales',)]\n"
     ]
    }
   ],
   "source": [
    "# See existing tables\n",
    "tables = con.execute(\"SHOW TABLES\").fetchall()\n",
    "print(\"Tables in DuckDB:\", tables)\n"
   ]
  },
  {
   "cell_type": "code",
   "execution_count": 28,
   "id": "68372f48-22cb-414d-89ea-de01d6288210",
   "metadata": {},
   "outputs": [
    {
     "name": "stdout",
     "output_type": "stream",
     "text": [
      "Rows in bronze_sales: 5\n"
     ]
    }
   ],
   "source": [
    "import duckdb\n",
    "import pandas as pd\n",
    "from pathlib import Path\n",
    "\n",
    "# Paths\n",
    "NOTEBOOK_DIR = Path().resolve()\n",
    "PROJECT_ROOT = NOTEBOOK_DIR.parent.parent\n",
    "CSV_PATH = PROJECT_ROOT / \"data/raw/sales_2025_09.csv\"\n",
    "\n",
    "# Load CSV\n",
    "df_raw = pd.read_csv(CSV_PATH)\n",
    "\n",
    "# Connect to DuckDB\n",
    "con = duckdb.connect(PROJECT_ROOT / \"data/buildcpg.duckdb\")\n",
    "\n",
    "# Drop any existing object with the same name\n",
    "\n",
    "con.execute(\"DROP VIEW IF EXISTS bronze_sales CASCADE\")\n",
    "\n",
    "# Register DataFrame\n",
    "con.register(\"tmp_df\", df_raw)\n",
    "\n",
    "# Create persistent bronze table\n",
    "con.execute(\"CREATE TABLE bronze_sales AS SELECT * FROM tmp_df\")\n",
    "\n",
    "# Verify\n",
    "print(\"Rows in bronze_sales:\", con.execute(\"SELECT COUNT(*) FROM bronze_sales\").fetchone()[0])\n"
   ]
  },
  {
   "cell_type": "code",
   "execution_count": 31,
   "id": "eb1188ac-6890-4b7f-93f7-768056c0afc6",
   "metadata": {},
   "outputs": [
    {
     "data": {
      "text/html": [
       "<div>\n",
       "<style scoped>\n",
       "    .dataframe tbody tr th:only-of-type {\n",
       "        vertical-align: middle;\n",
       "    }\n",
       "\n",
       "    .dataframe tbody tr th {\n",
       "        vertical-align: top;\n",
       "    }\n",
       "\n",
       "    .dataframe thead th {\n",
       "        text-align: right;\n",
       "    }\n",
       "</style>\n",
       "<table border=\"1\" class=\"dataframe\">\n",
       "  <thead>\n",
       "    <tr style=\"text-align: right;\">\n",
       "      <th></th>\n",
       "      <th>order_id</th>\n",
       "      <th>sku_id</th>\n",
       "      <th>order_date</th>\n",
       "      <th>region</th>\n",
       "      <th>sales</th>\n",
       "      <th>promo_flag</th>\n",
       "      <th>discount</th>\n",
       "      <th>stock_on_hand</th>\n",
       "    </tr>\n",
       "  </thead>\n",
       "  <tbody>\n",
       "    <tr>\n",
       "      <th>0</th>\n",
       "      <td>1</td>\n",
       "      <td>SKU_A</td>\n",
       "      <td>2025-09-01</td>\n",
       "      <td>North</td>\n",
       "      <td>100</td>\n",
       "      <td>0</td>\n",
       "      <td>0</td>\n",
       "      <td>50</td>\n",
       "    </tr>\n",
       "    <tr>\n",
       "      <th>1</th>\n",
       "      <td>2</td>\n",
       "      <td>SKU_A</td>\n",
       "      <td>2025-09-02</td>\n",
       "      <td>North</td>\n",
       "      <td>120</td>\n",
       "      <td>1</td>\n",
       "      <td>10</td>\n",
       "      <td>40</td>\n",
       "    </tr>\n",
       "    <tr>\n",
       "      <th>2</th>\n",
       "      <td>3</td>\n",
       "      <td>SKU_B</td>\n",
       "      <td>2025-09-01</td>\n",
       "      <td>South</td>\n",
       "      <td>80</td>\n",
       "      <td>0</td>\n",
       "      <td>0</td>\n",
       "      <td>70</td>\n",
       "    </tr>\n",
       "    <tr>\n",
       "      <th>3</th>\n",
       "      <td>4</td>\n",
       "      <td>SKU_B</td>\n",
       "      <td>2025-09-03</td>\n",
       "      <td>South</td>\n",
       "      <td>90</td>\n",
       "      <td>1</td>\n",
       "      <td>5</td>\n",
       "      <td>60</td>\n",
       "    </tr>\n",
       "    <tr>\n",
       "      <th>4</th>\n",
       "      <td>5</td>\n",
       "      <td>SKU_C</td>\n",
       "      <td>2025-09-02</td>\n",
       "      <td>West</td>\n",
       "      <td>60</td>\n",
       "      <td>0</td>\n",
       "      <td>0</td>\n",
       "      <td>20</td>\n",
       "    </tr>\n",
       "  </tbody>\n",
       "</table>\n",
       "</div>"
      ],
      "text/plain": [
       "   order_id sku_id  order_date region  sales  promo_flag  discount  \\\n",
       "0         1  SKU_A  2025-09-01  North    100           0         0   \n",
       "1         2  SKU_A  2025-09-02  North    120           1        10   \n",
       "2         3  SKU_B  2025-09-01  South     80           0         0   \n",
       "3         4  SKU_B  2025-09-03  South     90           1         5   \n",
       "4         5  SKU_C  2025-09-02   West     60           0         0   \n",
       "\n",
       "   stock_on_hand  \n",
       "0             50  \n",
       "1             40  \n",
       "2             70  \n",
       "3             60  \n",
       "4             20  "
      ]
     },
     "execution_count": 31,
     "metadata": {},
     "output_type": "execute_result"
    }
   ],
   "source": [
    "# Preview first 5 rows in bronze\n",
    "df_bronze = con.execute(\"SELECT * FROM bronze_sales LIMIT 5\").df()\n",
    "df_bronze\n"
   ]
  },
  {
   "cell_type": "code",
   "execution_count": 32,
   "id": "5c1a445a-47af-4713-bbbe-ce8bb29e7099",
   "metadata": {},
   "outputs": [
    {
     "data": {
      "text/plain": [
       "[(0,)]"
      ]
     },
     "execution_count": 32,
     "metadata": {},
     "output_type": "execute_result"
    }
   ],
   "source": [
    "\n",
    "# Check nulls in critical columns\n",
    "con.execute(\"SELECT COUNT(*) FROM bronze_sales WHERE order_id IS NULL\").fetchall()\n",
    "\n",
    "\n"
   ]
  },
  {
   "cell_type": "code",
   "execution_count": 33,
   "id": "e229c718-088f-49f6-a747-26a3d57c37b9",
   "metadata": {},
   "outputs": [
    {
     "data": {
      "text/plain": [
       "[('2025-09-01', '2025-09-03')]"
      ]
     },
     "execution_count": 33,
     "metadata": {},
     "output_type": "execute_result"
    }
   ],
   "source": [
    "# Check date column (if exists) for sanity\n",
    "con.execute(\"SELECT MIN(order_date), MAX(order_date) FROM bronze_sales\").fetchall()"
   ]
  },
  {
   "cell_type": "code",
   "execution_count": null,
   "id": "622cc76b-861a-4bd5-8809-50e67b785f8a",
   "metadata": {},
   "outputs": [],
   "source": []
  }
 ],
 "metadata": {
  "kernelspec": {
   "display_name": ".venv",
   "language": "python",
   "name": "python3"
  },
  "language_info": {
   "codemirror_mode": {
    "name": "ipython",
    "version": 3
   },
   "file_extension": ".py",
   "mimetype": "text/x-python",
   "name": "python",
   "nbconvert_exporter": "python",
   "pygments_lexer": "ipython3",
   "version": "3.11.9"
  }
 },
 "nbformat": 4,
 "nbformat_minor": 5
}
